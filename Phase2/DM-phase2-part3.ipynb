{
 "cells": [
  {
   "cell_type": "code",
   "execution_count": 1,
   "metadata": {},
   "outputs": [],
   "source": [
    "import pandas as pd\n",
    "import matplotlib.pyplot as plt\n",
    "\n",
    "from efficient_apriori import apriori\n",
    "\n",
    "%matplotlib inline  "
   ]
  },
  {
   "cell_type": "code",
   "execution_count": 2,
   "metadata": {},
   "outputs": [],
   "source": [
    "#import dataset\n",
    "dataset_raw = pd.read_csv(\"./divar_dataset/divar_posts_dataset.csv\")"
   ]
  },
  {
   "cell_type": "code",
   "execution_count": 3,
   "metadata": {},
   "outputs": [
    {
     "data": {
      "text/plain": [
       "mobile    874237\n",
       "web        73398\n",
       "Name: platform, dtype: int64"
      ]
     },
     "execution_count": 3,
     "metadata": {},
     "output_type": "execute_result"
    }
   ],
   "source": [
    "dataset_raw[\"platform\"].value_counts()"
   ]
  },
  {
   "cell_type": "code",
   "execution_count": 4,
   "metadata": {},
   "outputs": [
    {
     "data": {
      "text/plain": [
       "created_at    0\n",
       "platform      0\n",
       "dtype: int64"
      ]
     },
     "execution_count": 4,
     "metadata": {},
     "output_type": "execute_result"
    }
   ],
   "source": [
    "dataset = dataset_raw[[\"created_at\",\"platform\"]]\n",
    "dataset.isna().sum()"
   ]
  },
  {
   "cell_type": "markdown",
   "metadata": {},
   "source": [
    "# PART 3"
   ]
  },
  {
   "cell_type": "code",
   "execution_count": 5,
   "metadata": {},
   "outputs": [
    {
     "name": "stderr",
     "output_type": "stream",
     "text": [
      "<ipython-input-5-2190063e1fcc>:1: SettingWithCopyWarning: \n",
      "A value is trying to be set on a copy of a slice from a DataFrame.\n",
      "Try using .loc[row_indexer,col_indexer] = value instead\n",
      "\n",
      "See the caveats in the documentation: https://pandas.pydata.org/pandas-docs/stable/user_guide/indexing.html#returning-a-view-versus-a-copy\n",
      "  dataset[\"created_at\"] = dataset[\"created_at\"].apply(lambda x: x[:-4] + x[-2:] +' '+ (\"7-12\"  if int(x[-4:-2]) > 6 else \"1-6\"))\n"
     ]
    },
    {
     "data": {
      "text/html": [
       "<div>\n",
       "<style scoped>\n",
       "    .dataframe tbody tr th:only-of-type {\n",
       "        vertical-align: middle;\n",
       "    }\n",
       "\n",
       "    .dataframe tbody tr th {\n",
       "        vertical-align: top;\n",
       "    }\n",
       "\n",
       "    .dataframe thead th {\n",
       "        text-align: right;\n",
       "    }\n",
       "</style>\n",
       "<table border=\"1\" class=\"dataframe\">\n",
       "  <thead>\n",
       "    <tr style=\"text-align: right;\">\n",
       "      <th></th>\n",
       "      <th>created_at</th>\n",
       "      <th>platform</th>\n",
       "    </tr>\n",
       "  </thead>\n",
       "  <tbody>\n",
       "    <tr>\n",
       "      <th>0</th>\n",
       "      <td>Tuesday PM 7-12</td>\n",
       "      <td>mobile</td>\n",
       "    </tr>\n",
       "    <tr>\n",
       "      <th>1</th>\n",
       "      <td>Tuesday PM 7-12</td>\n",
       "      <td>mobile</td>\n",
       "    </tr>\n",
       "    <tr>\n",
       "      <th>2</th>\n",
       "      <td>Tuesday PM 7-12</td>\n",
       "      <td>mobile</td>\n",
       "    </tr>\n",
       "    <tr>\n",
       "      <th>3</th>\n",
       "      <td>Tuesday PM 7-12</td>\n",
       "      <td>mobile</td>\n",
       "    </tr>\n",
       "    <tr>\n",
       "      <th>4</th>\n",
       "      <td>Tuesday PM 7-12</td>\n",
       "      <td>mobile</td>\n",
       "    </tr>\n",
       "    <tr>\n",
       "      <th>...</th>\n",
       "      <td>...</td>\n",
       "      <td>...</td>\n",
       "    </tr>\n",
       "    <tr>\n",
       "      <th>947630</th>\n",
       "      <td>Friday AM 7-12</td>\n",
       "      <td>web</td>\n",
       "    </tr>\n",
       "    <tr>\n",
       "      <th>947631</th>\n",
       "      <td>Friday PM 1-6</td>\n",
       "      <td>mobile</td>\n",
       "    </tr>\n",
       "    <tr>\n",
       "      <th>947632</th>\n",
       "      <td>Friday PM 1-6</td>\n",
       "      <td>mobile</td>\n",
       "    </tr>\n",
       "    <tr>\n",
       "      <th>947633</th>\n",
       "      <td>Friday PM 1-6</td>\n",
       "      <td>mobile</td>\n",
       "    </tr>\n",
       "    <tr>\n",
       "      <th>947634</th>\n",
       "      <td>Friday PM 1-6</td>\n",
       "      <td>mobile</td>\n",
       "    </tr>\n",
       "  </tbody>\n",
       "</table>\n",
       "<p>947635 rows × 2 columns</p>\n",
       "</div>"
      ],
      "text/plain": [
       "             created_at platform\n",
       "0       Tuesday PM 7-12   mobile\n",
       "1       Tuesday PM 7-12   mobile\n",
       "2       Tuesday PM 7-12   mobile\n",
       "3       Tuesday PM 7-12   mobile\n",
       "4       Tuesday PM 7-12   mobile\n",
       "...                 ...      ...\n",
       "947630   Friday AM 7-12      web\n",
       "947631    Friday PM 1-6   mobile\n",
       "947632    Friday PM 1-6   mobile\n",
       "947633    Friday PM 1-6   mobile\n",
       "947634    Friday PM 1-6   mobile\n",
       "\n",
       "[947635 rows x 2 columns]"
      ]
     },
     "execution_count": 5,
     "metadata": {},
     "output_type": "execute_result"
    }
   ],
   "source": [
    "\n",
    "dataset[\"created_at\"] = dataset[\"created_at\"].apply(lambda x: x[:-4] + x[-2:] +' '+ (\"7-12\"  if int(x[-4:-2]) > 6 else \"1-6\"))\n",
    "dataset"
   ]
  },
  {
   "cell_type": "code",
   "execution_count": 6,
   "metadata": {},
   "outputs": [
    {
     "data": {
      "text/plain": [
       "Friday PM 1-6        50502\n",
       "Saturday PM 1-6      50412\n",
       "Sunday PM 1-6        48388\n",
       "Tuesday PM 1-6       46363\n",
       "Wednesday PM 1-6     46357\n",
       "Monday PM 1-6        46018\n",
       "Thursday PM 1-6      44181\n",
       "Saturday AM 7-12     40855\n",
       "Sunday AM 7-12       38913\n",
       "Thursday AM 7-12     38757\n",
       "Saturday PM 7-12     38742\n",
       "Wednesday AM 7-12    38286\n",
       "Friday AM 7-12       38226\n",
       "Tuesday AM 7-12      37760\n",
       "Friday PM 7-12       37496\n",
       "Monday AM 7-12       37251\n",
       "Sunday PM 7-12       36224\n",
       "Monday PM 7-12       36020\n",
       "Tuesday PM 7-12      35369\n",
       "Wednesday PM 7-12    35254\n",
       "Thursday PM 7-12     33675\n",
       "Saturday AM 1-6      14394\n",
       "Sunday AM 1-6        13947\n",
       "Wednesday AM 1-6     13844\n",
       "Tuesday AM 1-6       13719\n",
       "Thursday AM 1-6      13055\n",
       "Monday AM 1-6        12977\n",
       "Friday AM 1-6        10650\n",
       "Name: created_at, dtype: int64"
      ]
     },
     "execution_count": 6,
     "metadata": {},
     "output_type": "execute_result"
    }
   ],
   "source": [
    "dataset[\"created_at\"].value_counts()"
   ]
  },
  {
   "cell_type": "code",
   "execution_count": null,
   "metadata": {},
   "outputs": [],
   "source": [
    "transactions = list(dataset.itertuples(index=False, name=None))\n",
    "transactions"
   ]
  },
  {
   "cell_type": "code",
   "execution_count": 8,
   "metadata": {},
   "outputs": [],
   "source": [
    "itemsets, rules = apriori(transactions, min_support=0.035, min_confidence=0.4)"
   ]
  },
  {
   "cell_type": "code",
   "execution_count": 9,
   "metadata": {},
   "outputs": [
    {
     "data": {
      "text/plain": [
       "{('Wednesday PM 1-6', 'mobile'): 43078,\n",
       " ('Wednesday AM 7-12', 'mobile'): 34761,\n",
       " ('Tuesday PM 1-6', 'mobile'): 43016,\n",
       " ('Tuesday AM 7-12', 'mobile'): 34227,\n",
       " ('Thursday PM 1-6', 'mobile'): 41119,\n",
       " ('Thursday AM 7-12', 'mobile'): 35392,\n",
       " ('Sunday PM 7-12', 'mobile'): 33686,\n",
       " ('Sunday PM 1-6', 'mobile'): 44767,\n",
       " ('Sunday AM 7-12', 'mobile'): 35141,\n",
       " ('Saturday PM 7-12', 'mobile'): 36078,\n",
       " ('Saturday PM 1-6', 'mobile'): 46557,\n",
       " ('Saturday AM 7-12', 'mobile'): 36729,\n",
       " ('Monday PM 7-12', 'mobile'): 33618,\n",
       " ('Monday PM 1-6', 'mobile'): 42628,\n",
       " ('Monday AM 7-12', 'mobile'): 33653,\n",
       " ('Friday PM 7-12', 'mobile'): 35126,\n",
       " ('Friday PM 1-6', 'mobile'): 47273,\n",
       " ('Friday AM 7-12', 'mobile'): 35636}"
      ]
     },
     "execution_count": 9,
     "metadata": {},
     "output_type": "execute_result"
    }
   ],
   "source": [
    "frequent_itemsets = dict(sorted(itemsets[2].items(), key=lambda item: item[0], reverse=True))\n",
    "frequent_itemsets\n"
   ]
  },
  {
   "cell_type": "code",
   "execution_count": 10,
   "metadata": {},
   "outputs": [
    {
     "name": "stdout",
     "output_type": "stream",
     "text": [
      "{Friday PM 7-12} -> {mobile} (conf: 0.937, supp: 0.037, lift: 1.015, conv: 1.225)\n",
      "{Friday PM 1-6} -> {mobile} (conf: 0.936, supp: 0.050, lift: 1.015, conv: 1.211)\n",
      "{Monday PM 7-12} -> {mobile} (conf: 0.933, supp: 0.035, lift: 1.012, conv: 1.161)\n",
      "{Friday AM 7-12} -> {mobile} (conf: 0.932, supp: 0.038, lift: 1.011, conv: 1.143)\n",
      "{Saturday PM 7-12} -> {mobile} (conf: 0.931, supp: 0.038, lift: 1.009, conv: 1.126)\n",
      "{Thursday PM 1-6} -> {mobile} (conf: 0.931, supp: 0.043, lift: 1.009, conv: 1.118)\n",
      "{Sunday PM 7-12} -> {mobile} (conf: 0.930, supp: 0.036, lift: 1.008, conv: 1.105)\n",
      "{Wednesday PM 1-6} -> {mobile} (conf: 0.929, supp: 0.045, lift: 1.007, conv: 1.095)\n",
      "{Tuesday PM 1-6} -> {mobile} (conf: 0.928, supp: 0.045, lift: 1.006, conv: 1.073)\n",
      "{Monday PM 1-6} -> {mobile} (conf: 0.926, supp: 0.045, lift: 1.004, conv: 1.051)\n",
      "{Sunday PM 1-6} -> {mobile} (conf: 0.925, supp: 0.047, lift: 1.003, conv: 1.035)\n",
      "{Saturday PM 1-6} -> {mobile} (conf: 0.924, supp: 0.049, lift: 1.001, conv: 1.013)\n",
      "{Thursday AM 7-12} -> {mobile} (conf: 0.913, supp: 0.037, lift: 0.990, conv: 0.892)\n",
      "{Wednesday AM 7-12} -> {mobile} (conf: 0.908, supp: 0.037, lift: 0.984, conv: 0.841)\n",
      "{Tuesday AM 7-12} -> {mobile} (conf: 0.906, supp: 0.036, lift: 0.983, conv: 0.828)\n",
      "{Monday AM 7-12} -> {mobile} (conf: 0.903, supp: 0.036, lift: 0.979, conv: 0.802)\n",
      "{Sunday AM 7-12} -> {mobile} (conf: 0.903, supp: 0.037, lift: 0.979, conv: 0.799)\n",
      "{Saturday AM 7-12} -> {mobile} (conf: 0.899, supp: 0.039, lift: 0.974, conv: 0.767)\n"
     ]
    }
   ],
   "source": [
    "for rule in sorted(rules, key=lambda rule: rule.lift, reverse=True):\n",
    "  print(rule)"
   ]
  },
  {
   "cell_type": "markdown",
   "metadata": {},
   "source": [
    "# mobile and web count equal"
   ]
  },
  {
   "cell_type": "code",
   "execution_count": 11,
   "metadata": {},
   "outputs": [
    {
     "name": "stdout",
     "output_type": "stream",
     "text": [
      "platform_values_counts:\n",
      "mobile    874237\n",
      "web        73398\n",
      "Name: platform, dtype: int64\n",
      "min value count : 73398\n"
     ]
    }
   ],
   "source": [
    "platform_values_counts = dataset[\"platform\"].value_counts()\n",
    "print(\"platform_values_counts:\\n\"+str(platform_values_counts))\n",
    "min_platform_count = platform_values_counts[-1]\n",
    "print(\"min value count : \"+str(min_platform_count))"
   ]
  },
  {
   "cell_type": "code",
   "execution_count": null,
   "metadata": {},
   "outputs": [],
   "source": [
    "grouped = dataset.groupby(\"platform\")\n",
    "transactions = []\n",
    "for name, group in grouped:\n",
    "    transactions += group.sample(frac=1)[0:min_platform_count].values.tolist()\n",
    "transactions"
   ]
  },
  {
   "cell_type": "code",
   "execution_count": 13,
   "metadata": {},
   "outputs": [],
   "source": [
    "itemsets, rules = apriori(transactions, min_support=0.024, min_confidence=0.4)"
   ]
  },
  {
   "cell_type": "code",
   "execution_count": 14,
   "metadata": {},
   "outputs": [
    {
     "data": {
      "text/plain": [
       "{('Wednesday PM 1-6', 'mobile'): 3556,\n",
       " ('Wednesday AM 7-12', 'web'): 3525,\n",
       " ('Tuesday PM 1-6', 'mobile'): 3591,\n",
       " ('Tuesday AM 7-12', 'web'): 3533,\n",
       " ('Sunday PM 1-6', 'web'): 3621,\n",
       " ('Sunday PM 1-6', 'mobile'): 3803,\n",
       " ('Sunday AM 7-12', 'web'): 3772,\n",
       " ('Saturday PM 1-6', 'web'): 3855,\n",
       " ('Saturday PM 1-6', 'mobile'): 3989,\n",
       " ('Saturday AM 7-12', 'web'): 4126,\n",
       " ('Monday PM 1-6', 'mobile'): 3715,\n",
       " ('Monday AM 7-12', 'web'): 3598,\n",
       " ('Friday PM 1-6', 'mobile'): 4003}"
      ]
     },
     "execution_count": 14,
     "metadata": {},
     "output_type": "execute_result"
    }
   ],
   "source": [
    "frequent_itemsets = dict(sorted(itemsets[2].items(), key=lambda item: item[0], reverse=True))\n",
    "frequent_itemsets\n"
   ]
  },
  {
   "cell_type": "code",
   "execution_count": 15,
   "metadata": {},
   "outputs": [
    {
     "data": {
      "text/plain": [
       "{('Saturday AM 7-12', 'web'): 4126,\n",
       " ('Friday PM 1-6', 'mobile'): 4003,\n",
       " ('Saturday PM 1-6', 'mobile'): 3989,\n",
       " ('Saturday PM 1-6', 'web'): 3855,\n",
       " ('Sunday PM 1-6', 'mobile'): 3803,\n",
       " ('Sunday AM 7-12', 'web'): 3772,\n",
       " ('Monday PM 1-6', 'mobile'): 3715,\n",
       " ('Sunday PM 1-6', 'web'): 3621,\n",
       " ('Monday AM 7-12', 'web'): 3598,\n",
       " ('Tuesday PM 1-6', 'mobile'): 3591,\n",
       " ('Wednesday PM 1-6', 'mobile'): 3556,\n",
       " ('Tuesday AM 7-12', 'web'): 3533,\n",
       " ('Wednesday AM 7-12', 'web'): 3525}"
      ]
     },
     "execution_count": 15,
     "metadata": {},
     "output_type": "execute_result"
    }
   ],
   "source": [
    "frequent_itemsets = dict(sorted(frequent_itemsets.items(), key=lambda item: item[1], reverse=True))\n",
    "frequent_itemsets\n"
   ]
  },
  {
   "cell_type": "code",
   "execution_count": 16,
   "metadata": {},
   "outputs": [
    {
     "name": "stdout",
     "output_type": "stream",
     "text": [
      "{Saturday AM 7-12} -> {web} (conf: 0.573, supp: 0.028, lift: 1.147, conv: 1.172)\n",
      "{Monday AM 7-12} -> {web} (conf: 0.562, supp: 0.025, lift: 1.124, conv: 1.141)\n",
      "{Sunday AM 7-12} -> {web} (conf: 0.559, supp: 0.026, lift: 1.119, conv: 1.135)\n",
      "{Tuesday AM 7-12} -> {web} (conf: 0.555, supp: 0.024, lift: 1.109, conv: 1.123)\n",
      "{Friday PM 1-6} -> {mobile} (conf: 0.554, supp: 0.027, lift: 1.107, conv: 1.120)\n",
      "{Wednesday AM 7-12} -> {web} (conf: 0.542, supp: 0.024, lift: 1.085, conv: 1.092)\n",
      "{Monday PM 1-6} -> {mobile} (conf: 0.523, supp: 0.025, lift: 1.046, conv: 1.048)\n",
      "{Wednesday PM 1-6} -> {mobile} (conf: 0.520, supp: 0.024, lift: 1.041, conv: 1.042)\n",
      "{Tuesday PM 1-6} -> {mobile} (conf: 0.518, supp: 0.024, lift: 1.035, conv: 1.036)\n",
      "{Sunday PM 1-6} -> {mobile} (conf: 0.512, supp: 0.026, lift: 1.025, conv: 1.025)\n",
      "{Saturday PM 1-6} -> {mobile} (conf: 0.509, supp: 0.027, lift: 1.017, conv: 1.017)\n",
      "{Saturday PM 1-6} -> {web} (conf: 0.491, supp: 0.026, lift: 0.983, conv: 0.983)\n",
      "{Sunday PM 1-6} -> {web} (conf: 0.488, supp: 0.025, lift: 0.975, conv: 0.976)\n"
     ]
    }
   ],
   "source": [
    "for rule in sorted(rules, key=lambda rule: rule.lift, reverse=True):\n",
    "  print(rule)"
   ]
  },
  {
   "cell_type": "code",
   "execution_count": null,
   "metadata": {},
   "outputs": [],
   "source": []
  }
 ],
 "metadata": {
  "kernelspec": {
   "display_name": "Python 3",
   "language": "python",
   "name": "python3"
  },
  "language_info": {
   "codemirror_mode": {
    "name": "ipython",
    "version": 3
   },
   "file_extension": ".py",
   "mimetype": "text/x-python",
   "name": "python",
   "nbconvert_exporter": "python",
   "pygments_lexer": "ipython3",
   "version": "3.8.3"
  }
 },
 "nbformat": 4,
 "nbformat_minor": 4
}
