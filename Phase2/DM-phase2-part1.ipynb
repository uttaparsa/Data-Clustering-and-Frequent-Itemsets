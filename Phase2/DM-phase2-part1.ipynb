{
 "cells": [
  {
   "cell_type": "code",
   "execution_count": 1,
   "metadata": {},
   "outputs": [],
   "source": [
    "import pandas as pd\n",
    "import matplotlib.pyplot as plt\n",
    "\n",
    "from efficient_apriori import apriori\n",
    "\n",
    "%matplotlib inline "
   ]
  },
  {
   "cell_type": "code",
   "execution_count": 2,
   "metadata": {},
   "outputs": [],
   "source": [
    "#import dataset\n",
    "dataset_raw = pd.read_csv(\"./divar_dataset/divar_posts_dataset.csv\")"
   ]
  },
  {
   "cell_type": "code",
   "execution_count": 3,
   "metadata": {},
   "outputs": [
    {
     "data": {
      "text/plain": [
       "furniture-and-home-decore        204445\n",
       "cars                             130443\n",
       "clothing-and-shoes                87096\n",
       "mobile-tablet                     76307\n",
       "utensils-and-appliances           58714\n",
       "parts-accessories                 55986\n",
       "animals                           50694\n",
       "equipments-and-machinery          50101\n",
       "game-consoles-and-video-games     31964\n",
       "audio-video                       29176\n",
       "computers                         26536\n",
       "baby-and-toys                     20502\n",
       "motorcycles                       19831\n",
       "building-and-garden               18915\n",
       "batch                             11777\n",
       "childrens-clothing-and-shoe       11433\n",
       "bicycle                           11283\n",
       "sport-leisure                     10374\n",
       "jewelry-and-watches               10316\n",
       "health-beauty                      9390\n",
       "utility                            8239\n",
       "musical-instruments                3854\n",
       "book-student-literature            3203\n",
       "hobby-collectibles                 2431\n",
       "phone                              1193\n",
       "travel-packages                    1071\n",
       "leisure-hobbies-toys                603\n",
       "Name: cat2, dtype: int64"
      ]
     },
     "execution_count": 3,
     "metadata": {},
     "output_type": "execute_result"
    }
   ],
   "source": [
    " dataset_raw[\"cat2\"].value_counts()"
   ]
  },
  {
   "cell_type": "code",
   "execution_count": 4,
   "metadata": {},
   "outputs": [
    {
     "data": {
      "text/plain": [
       "light               120451\n",
       "mobile-phones        62176\n",
       "clothing             53758\n",
       "sofa-armchair        49363\n",
       "birds                38511\n",
       "                     ...  \n",
       "cat                    472\n",
       "traditional            472\n",
       "coin-stamp             388\n",
       "drums-percussion       354\n",
       "repair-tool            346\n",
       "Name: cat3, Length: 66, dtype: int64"
      ]
     },
     "execution_count": 4,
     "metadata": {},
     "output_type": "execute_result"
    }
   ],
   "source": [
    " dataset_raw[\"cat3\"].value_counts()"
   ]
  },
  {
   "cell_type": "code",
   "execution_count": 5,
   "metadata": {},
   "outputs": [
    {
     "name": "stdout",
     "output_type": "stream",
     "text": [
      "city_values_counts:\n",
      "Tehran        442938\n",
      "Mashhad       138879\n",
      "Shiraz         83970\n",
      "Karaj          83736\n",
      "Isfahan        61803\n",
      "Ahvaz          47163\n",
      "Tabriz         34014\n",
      "Qom            32002\n",
      "Kermanshah     23130\n",
      "Name: city, dtype: int64\n",
      "min value count : 23130\n"
     ]
    }
   ],
   "source": [
    "city_values_counts = dataset_raw[\"city\"].value_counts()\n",
    "print(\"city_values_counts:\\n\"+str(city_values_counts))\n",
    "min_city_count = city_values_counts[-1]\n",
    "print(\"min value count : \"+str(min_city_count))"
   ]
  },
  {
   "cell_type": "raw",
   "metadata": {},
   "source": [
    "\n",
    "\n",
    "print(dataset_raw['platform'].value_counts(normalize=True))\n",
    "print(\"\\n\")\n",
    "print(dataset_raw['city'].value_counts(normalize=True))\n",
    "print(\"\\n\")\n",
    "print(dataset_raw['cat1'].value_counts(normalize=True))\n",
    "print(\"\\n\")\n",
    "print(dataset_raw['cat2'].value_counts(normalize=True))\n",
    "print(\"\\n\")\n",
    "print(dataset_raw['cat3'].value_counts(normalize=True))\n",
    "print(\"\\n\")\n",
    "print(dataset_raw['brand'].value_counts(normalize=True))\n"
   ]
  },
  {
   "cell_type": "markdown",
   "metadata": {},
   "source": [
    "# PART 1 : solving using cat2"
   ]
  },
  {
   "cell_type": "code",
   "execution_count": 6,
   "metadata": {},
   "outputs": [
    {
     "data": {
      "text/plain": [
       "city         0\n",
       "cat1         0\n",
       "cat2      1758\n",
       "cat3    172334\n",
       "dtype: int64"
      ]
     },
     "execution_count": 6,
     "metadata": {},
     "output_type": "execute_result"
    }
   ],
   "source": [
    "dataset = dataset_raw[[\"city\",\"cat1\",\"cat2\",\"cat3\"]]\n",
    "dataset.isnull().sum()"
   ]
  },
  {
   "cell_type": "code",
   "execution_count": 7,
   "metadata": {},
   "outputs": [
    {
     "data": {
      "text/html": [
       "<div>\n",
       "<style scoped>\n",
       "    .dataframe tbody tr th:only-of-type {\n",
       "        vertical-align: middle;\n",
       "    }\n",
       "\n",
       "    .dataframe tbody tr th {\n",
       "        vertical-align: top;\n",
       "    }\n",
       "\n",
       "    .dataframe thead th {\n",
       "        text-align: right;\n",
       "    }\n",
       "</style>\n",
       "<table border=\"1\" class=\"dataframe\">\n",
       "  <thead>\n",
       "    <tr style=\"text-align: right;\">\n",
       "      <th></th>\n",
       "      <th>city</th>\n",
       "      <th>product</th>\n",
       "    </tr>\n",
       "  </thead>\n",
       "  <tbody>\n",
       "    <tr>\n",
       "      <th>0</th>\n",
       "      <td>Tehran</td>\n",
       "      <td>furniture-and-home-decore</td>\n",
       "    </tr>\n",
       "    <tr>\n",
       "      <th>1</th>\n",
       "      <td>Mashhad</td>\n",
       "      <td>furniture-and-home-decore</td>\n",
       "    </tr>\n",
       "    <tr>\n",
       "      <th>2</th>\n",
       "      <td>Mashhad</td>\n",
       "      <td>cars</td>\n",
       "    </tr>\n",
       "    <tr>\n",
       "      <th>3</th>\n",
       "      <td>Tehran</td>\n",
       "      <td>furniture-and-home-decore</td>\n",
       "    </tr>\n",
       "    <tr>\n",
       "      <th>4</th>\n",
       "      <td>Karaj</td>\n",
       "      <td>baby-and-toys</td>\n",
       "    </tr>\n",
       "    <tr>\n",
       "      <th>...</th>\n",
       "      <td>...</td>\n",
       "      <td>...</td>\n",
       "    </tr>\n",
       "    <tr>\n",
       "      <th>947630</th>\n",
       "      <td>Shiraz</td>\n",
       "      <td>building-and-garden</td>\n",
       "    </tr>\n",
       "    <tr>\n",
       "      <th>947631</th>\n",
       "      <td>Tehran</td>\n",
       "      <td>audio-video</td>\n",
       "    </tr>\n",
       "    <tr>\n",
       "      <th>947632</th>\n",
       "      <td>Shiraz</td>\n",
       "      <td>cars</td>\n",
       "    </tr>\n",
       "    <tr>\n",
       "      <th>947633</th>\n",
       "      <td>Mashhad</td>\n",
       "      <td>mobile-tablet</td>\n",
       "    </tr>\n",
       "    <tr>\n",
       "      <th>947634</th>\n",
       "      <td>Shiraz</td>\n",
       "      <td>jewelry-and-watches</td>\n",
       "    </tr>\n",
       "  </tbody>\n",
       "</table>\n",
       "<p>775301 rows × 2 columns</p>\n",
       "</div>"
      ],
      "text/plain": [
       "           city                    product\n",
       "0        Tehran  furniture-and-home-decore\n",
       "1       Mashhad  furniture-and-home-decore\n",
       "2       Mashhad                       cars\n",
       "3        Tehran  furniture-and-home-decore\n",
       "4         Karaj              baby-and-toys\n",
       "...         ...                        ...\n",
       "947630   Shiraz        building-and-garden\n",
       "947631   Tehran                audio-video\n",
       "947632   Shiraz                       cars\n",
       "947633  Mashhad              mobile-tablet\n",
       "947634   Shiraz        jewelry-and-watches\n",
       "\n",
       "[775301 rows x 2 columns]"
      ]
     },
     "execution_count": 7,
     "metadata": {},
     "output_type": "execute_result"
    }
   ],
   "source": [
    "\n",
    "dataset = dataset.dropna()\n",
    "dataset = dataset.astype(str)\n",
    "dataset[\"product\"] = dataset['cat2'] \n",
    "dataset = dataset[[\"city\",\"product\"]]\n",
    "\n",
    "dataset"
   ]
  },
  {
   "cell_type": "code",
   "execution_count": 8,
   "metadata": {},
   "outputs": [
    {
     "data": {
      "text/plain": [
       "furniture-and-home-decore    203471\n",
       "cars                         130443\n",
       "clothing-and-shoes            87096\n",
       "mobile-tablet                 76307\n",
       "animals                       50694\n",
       "equipments-and-machinery      49580\n",
       "utensils-and-appliances       48057\n",
       "audio-video                   28755\n",
       "computers                     26536\n",
       "baby-and-toys                 20502\n",
       "building-and-garden           17635\n",
       "sport-leisure                 10374\n",
       "jewelry-and-watches            9539\n",
       "utility                        7733\n",
       "musical-instruments            3292\n",
       "book-student-literature        3203\n",
       "hobby-collectibles             2084\n",
       "Name: product, dtype: int64"
      ]
     },
     "execution_count": 8,
     "metadata": {},
     "output_type": "execute_result"
    }
   ],
   "source": [
    "dataset[\"product\"].value_counts()"
   ]
  },
  {
   "cell_type": "code",
   "execution_count": 9,
   "metadata": {},
   "outputs": [],
   "source": [
    "grouped = dataset.groupby(\"city\")\n",
    "cities_items = []\n",
    "for name, group in grouped:\n",
    "    cities_items += group.sample(frac=1)[0:min_city_count].values.tolist()\n"
   ]
  },
  {
   "cell_type": "code",
   "execution_count": 10,
   "metadata": {},
   "outputs": [
    {
     "data": {
      "text/plain": [
       "203107"
      ]
     },
     "execution_count": 10,
     "metadata": {},
     "output_type": "execute_result"
    }
   ],
   "source": [
    "len(cities_items)"
   ]
  },
  {
   "cell_type": "code",
   "execution_count": 11,
   "metadata": {},
   "outputs": [],
   "source": [
    "\n",
    "transactions = cities_items\n",
    "itemsets, rules = apriori(transactions, min_support=0.012, min_confidence=0.2)"
   ]
  },
  {
   "cell_type": "code",
   "execution_count": 12,
   "metadata": {},
   "outputs": [
    {
     "data": {
      "text/plain": [
       "{('Ahvaz', 'mobile-tablet'): 2925,\n",
       " ('Ahvaz', 'furniture-and-home-decore'): 6925,\n",
       " ('Ahvaz', 'cars'): 3388,\n",
       " ('Isfahan', 'furniture-and-home-decore'): 4975,\n",
       " ('Isfahan', 'cars'): 4573,\n",
       " ('Isfahan', 'animals'): 3008,\n",
       " ('Isfahan', 'mobile-tablet'): 2863,\n",
       " ('Karaj', 'cars'): 3791,\n",
       " ('Karaj', 'furniture-and-home-decore'): 6755,\n",
       " ('Kermanshah', 'mobile-tablet'): 2956,\n",
       " ('Kermanshah', 'furniture-and-home-decore'): 5323,\n",
       " ('Kermanshah', 'cars'): 3003,\n",
       " ('Kermanshah', 'clothing-and-shoes'): 3655,\n",
       " ('Mashhad', 'animals'): 2487,\n",
       " ('Mashhad', 'furniture-and-home-decore'): 5395,\n",
       " ('Mashhad', 'cars'): 3258,\n",
       " ('Mashhad', 'clothing-and-shoes'): 3233,\n",
       " ('Qom', 'furniture-and-home-decore'): 5861,\n",
       " ('Qom', 'clothing-and-shoes'): 4335,\n",
       " ('Qom', 'mobile-tablet'): 3207,\n",
       " ('Qom', 'animals'): 3429,\n",
       " ('Shiraz', 'cars'): 6579,\n",
       " ('Shiraz', 'furniture-and-home-decore'): 4200,\n",
       " ('Tabriz', 'clothing-and-shoes'): 3692,\n",
       " ('Tabriz', 'furniture-and-home-decore'): 5882,\n",
       " ('Tabriz', 'cars'): 4368,\n",
       " ('Tabriz', 'mobile-tablet'): 3578,\n",
       " ('Tehran', 'cars'): 3668,\n",
       " ('Tehran', 'furniture-and-home-decore'): 6700}"
      ]
     },
     "execution_count": 12,
     "metadata": {},
     "output_type": "execute_result"
    }
   ],
   "source": [
    "itemsets[2]"
   ]
  },
  {
   "cell_type": "code",
   "execution_count": 13,
   "metadata": {},
   "outputs": [
    {
     "name": "stdout",
     "output_type": "stream",
     "text": [
      "{animals} -> {Qom} (conf: 0.212, supp: 0.017, lift: 1.857, conv: 1.124)\n",
      "{Shiraz} -> {cars} (conf: 0.284, supp: 0.032, lift: 1.690, conv: 1.162)\n",
      "{Kermanshah} -> {clothing-and-shoes} (conf: 0.202, supp: 0.018, lift: 1.657, conv: 1.101)\n",
      "{Ahvaz} -> {furniture-and-home-decore} (conf: 0.299, supp: 0.034, lift: 1.169, conv: 1.062)\n",
      "{Kermanshah} -> {furniture-and-home-decore} (conf: 0.295, supp: 0.026, lift: 1.150, conv: 1.055)\n",
      "{Karaj} -> {furniture-and-home-decore} (conf: 0.292, supp: 0.033, lift: 1.140, conv: 1.051)\n",
      "{Tehran} -> {furniture-and-home-decore} (conf: 0.290, supp: 0.033, lift: 1.131, conv: 1.047)\n",
      "{Tabriz} -> {furniture-and-home-decore} (conf: 0.254, supp: 0.029, lift: 0.993, conv: 0.998)\n",
      "{Qom} -> {furniture-and-home-decore} (conf: 0.253, supp: 0.029, lift: 0.989, conv: 0.996)\n",
      "{Mashhad} -> {furniture-and-home-decore} (conf: 0.233, supp: 0.027, lift: 0.911, conv: 0.970)\n",
      "{Isfahan} -> {furniture-and-home-decore} (conf: 0.215, supp: 0.024, lift: 0.840, conv: 0.948)\n"
     ]
    }
   ],
   "source": [
    "\n",
    "for rule in sorted(rules, key=lambda rule: rule.lift, reverse=True):\n",
    "  print(rule)"
   ]
  },
  {
   "cell_type": "markdown",
   "metadata": {},
   "source": [
    "# PART 1 : solving using cat3"
   ]
  },
  {
   "cell_type": "code",
   "execution_count": 14,
   "metadata": {},
   "outputs": [
    {
     "data": {
      "text/html": [
       "<div>\n",
       "<style scoped>\n",
       "    .dataframe tbody tr th:only-of-type {\n",
       "        vertical-align: middle;\n",
       "    }\n",
       "\n",
       "    .dataframe tbody tr th {\n",
       "        vertical-align: top;\n",
       "    }\n",
       "\n",
       "    .dataframe thead th {\n",
       "        text-align: right;\n",
       "    }\n",
       "</style>\n",
       "<table border=\"1\" class=\"dataframe\">\n",
       "  <thead>\n",
       "    <tr style=\"text-align: right;\">\n",
       "      <th></th>\n",
       "      <th>city</th>\n",
       "      <th>product</th>\n",
       "    </tr>\n",
       "  </thead>\n",
       "  <tbody>\n",
       "    <tr>\n",
       "      <th>0</th>\n",
       "      <td>Tehran</td>\n",
       "      <td>furniture-and-home-decore__sofa-armchair</td>\n",
       "    </tr>\n",
       "    <tr>\n",
       "      <th>1</th>\n",
       "      <td>Mashhad</td>\n",
       "      <td>furniture-and-home-decore__antiques-and-art</td>\n",
       "    </tr>\n",
       "    <tr>\n",
       "      <th>2</th>\n",
       "      <td>Mashhad</td>\n",
       "      <td>cars__heavy</td>\n",
       "    </tr>\n",
       "    <tr>\n",
       "      <th>3</th>\n",
       "      <td>Tehran</td>\n",
       "      <td>furniture-and-home-decore__sofa-armchair</td>\n",
       "    </tr>\n",
       "    <tr>\n",
       "      <th>4</th>\n",
       "      <td>Karaj</td>\n",
       "      <td>baby-and-toys__personal-toys</td>\n",
       "    </tr>\n",
       "    <tr>\n",
       "      <th>...</th>\n",
       "      <td>...</td>\n",
       "      <td>...</td>\n",
       "    </tr>\n",
       "    <tr>\n",
       "      <th>947630</th>\n",
       "      <td>Shiraz</td>\n",
       "      <td>building-and-garden__stove-and-heating</td>\n",
       "    </tr>\n",
       "    <tr>\n",
       "      <th>947631</th>\n",
       "      <td>Tehran</td>\n",
       "      <td>audio-video__camera-camcoders</td>\n",
       "    </tr>\n",
       "    <tr>\n",
       "      <th>947632</th>\n",
       "      <td>Shiraz</td>\n",
       "      <td>cars__light</td>\n",
       "    </tr>\n",
       "    <tr>\n",
       "      <th>947633</th>\n",
       "      <td>Mashhad</td>\n",
       "      <td>mobile-tablet__mobile-tablet-accessories</td>\n",
       "    </tr>\n",
       "    <tr>\n",
       "      <th>947634</th>\n",
       "      <td>Shiraz</td>\n",
       "      <td>jewelry-and-watches__watches</td>\n",
       "    </tr>\n",
       "  </tbody>\n",
       "</table>\n",
       "<p>775301 rows × 2 columns</p>\n",
       "</div>"
      ],
      "text/plain": [
       "           city                                      product\n",
       "0        Tehran     furniture-and-home-decore__sofa-armchair\n",
       "1       Mashhad  furniture-and-home-decore__antiques-and-art\n",
       "2       Mashhad                                  cars__heavy\n",
       "3        Tehran     furniture-and-home-decore__sofa-armchair\n",
       "4         Karaj                 baby-and-toys__personal-toys\n",
       "...         ...                                          ...\n",
       "947630   Shiraz       building-and-garden__stove-and-heating\n",
       "947631   Tehran                audio-video__camera-camcoders\n",
       "947632   Shiraz                                  cars__light\n",
       "947633  Mashhad     mobile-tablet__mobile-tablet-accessories\n",
       "947634   Shiraz                 jewelry-and-watches__watches\n",
       "\n",
       "[775301 rows x 2 columns]"
      ]
     },
     "execution_count": 14,
     "metadata": {},
     "output_type": "execute_result"
    }
   ],
   "source": [
    "dataset = dataset_raw[[\"city\",\"cat3\",\"cat2\"]]\n",
    "dataset = dataset.dropna()\n",
    "dataset = dataset.astype(str)\n",
    "dataset[\"product\"] = dataset['cat2'] +\"__\"+ dataset['cat3']\n",
    "dataset = dataset[[\"city\",\"product\"]]\n",
    "\n",
    "dataset"
   ]
  },
  {
   "cell_type": "code",
   "execution_count": 15,
   "metadata": {},
   "outputs": [
    {
     "data": {
      "text/plain": [
       "203107"
      ]
     },
     "execution_count": 15,
     "metadata": {},
     "output_type": "execute_result"
    }
   ],
   "source": [
    "grouped = dataset.groupby(\"city\")\n",
    "cities_items = []\n",
    "for name, group in grouped:\n",
    "    cities_items += group.sample(frac=1)[0:min_city_count].values.tolist()\n",
    "len(cities_items)"
   ]
  },
  {
   "cell_type": "code",
   "execution_count": 16,
   "metadata": {},
   "outputs": [],
   "source": [
    "\n",
    "transactions = cities_items\n",
    "itemsets, rules = apriori(transactions, min_support=0.010, min_confidence=0.15)"
   ]
  },
  {
   "cell_type": "code",
   "execution_count": 17,
   "metadata": {},
   "outputs": [
    {
     "ename": "TypeError",
     "evalue": "unhashable type: 'slice'",
     "output_type": "error",
     "traceback": [
      "\u001b[0;31m---------------------------------------------------------------------------\u001b[0m",
      "\u001b[0;31mTypeError\u001b[0m                                 Traceback (most recent call last)",
      "\u001b[0;32m<ipython-input-17-deb6b3d1b031>\u001b[0m in \u001b[0;36m<module>\u001b[0;34m\u001b[0m\n\u001b[0;32m----> 1\u001b[0;31m \u001b[0mitemsets\u001b[0m\u001b[0;34m[\u001b[0m\u001b[0;36m2\u001b[0m\u001b[0;34m:\u001b[0m\u001b[0;34m]\u001b[0m\u001b[0;34m\u001b[0m\u001b[0;34m\u001b[0m\u001b[0m\n\u001b[0m",
      "\u001b[0;31mTypeError\u001b[0m: unhashable type: 'slice'"
     ]
    }
   ],
   "source": [
    "itemsets[2:]"
   ]
  },
  {
   "cell_type": "code",
   "execution_count": null,
   "metadata": {},
   "outputs": [],
   "source": [
    "\n",
    "for rule in sorted(rules, key=lambda rule: rule.lift, reverse=True):\n",
    "  print(rule)\n"
   ]
  },
  {
   "cell_type": "code",
   "execution_count": null,
   "metadata": {},
   "outputs": [],
   "source": []
  },
  {
   "cell_type": "code",
   "execution_count": null,
   "metadata": {},
   "outputs": [],
   "source": []
  }
 ],
 "metadata": {
  "kernelspec": {
   "display_name": "Python 3",
   "language": "python",
   "name": "python3"
  },
  "language_info": {
   "codemirror_mode": {
    "name": "ipython",
    "version": 3
   },
   "file_extension": ".py",
   "mimetype": "text/x-python",
   "name": "python",
   "nbconvert_exporter": "python",
   "pygments_lexer": "ipython3",
   "version": "3.8.3"
  }
 },
 "nbformat": 4,
 "nbformat_minor": 4
}
