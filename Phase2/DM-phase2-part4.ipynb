{
 "cells": [
  {
   "cell_type": "code",
   "execution_count": 1,
   "metadata": {},
   "outputs": [],
   "source": [
    "import pandas as pd\n",
    "import matplotlib.pyplot as plt\n",
    "\n",
    "from efficient_apriori import apriori\n",
    "\n",
    "%matplotlib inline \n",
    "  "
   ]
  },
  {
   "cell_type": "code",
   "execution_count": 2,
   "metadata": {},
   "outputs": [],
   "source": [
    "#import dataset\n",
    "dataset_raw = pd.read_csv(\"./divar_dataset/divar_posts_dataset.csv\")"
   ]
  },
  {
   "cell_type": "markdown",
   "metadata": {},
   "source": [
    "# PART 4"
   ]
  },
  {
   "cell_type": "markdown",
   "metadata": {},
   "source": [
    "# PART 4: solving using cat2"
   ]
  },
  {
   "cell_type": "code",
   "execution_count": 3,
   "metadata": {},
   "outputs": [],
   "source": [
    "dataset = dataset_raw[[\"platform\",\"cat2\"]]"
   ]
  },
  {
   "cell_type": "code",
   "execution_count": 4,
   "metadata": {},
   "outputs": [
    {
     "data": {
      "text/html": [
       "<div>\n",
       "<style scoped>\n",
       "    .dataframe tbody tr th:only-of-type {\n",
       "        vertical-align: middle;\n",
       "    }\n",
       "\n",
       "    .dataframe tbody tr th {\n",
       "        vertical-align: top;\n",
       "    }\n",
       "\n",
       "    .dataframe thead th {\n",
       "        text-align: right;\n",
       "    }\n",
       "</style>\n",
       "<table border=\"1\" class=\"dataframe\">\n",
       "  <thead>\n",
       "    <tr style=\"text-align: right;\">\n",
       "      <th></th>\n",
       "      <th>product</th>\n",
       "      <th>platform</th>\n",
       "    </tr>\n",
       "  </thead>\n",
       "  <tbody>\n",
       "    <tr>\n",
       "      <th>0</th>\n",
       "      <td>furniture-and-home-decore</td>\n",
       "      <td>mobile</td>\n",
       "    </tr>\n",
       "    <tr>\n",
       "      <th>1</th>\n",
       "      <td>furniture-and-home-decore</td>\n",
       "      <td>mobile</td>\n",
       "    </tr>\n",
       "    <tr>\n",
       "      <th>2</th>\n",
       "      <td>cars</td>\n",
       "      <td>mobile</td>\n",
       "    </tr>\n",
       "    <tr>\n",
       "      <th>3</th>\n",
       "      <td>furniture-and-home-decore</td>\n",
       "      <td>mobile</td>\n",
       "    </tr>\n",
       "    <tr>\n",
       "      <th>4</th>\n",
       "      <td>baby-and-toys</td>\n",
       "      <td>mobile</td>\n",
       "    </tr>\n",
       "    <tr>\n",
       "      <th>...</th>\n",
       "      <td>...</td>\n",
       "      <td>...</td>\n",
       "    </tr>\n",
       "    <tr>\n",
       "      <th>947630</th>\n",
       "      <td>building-and-garden</td>\n",
       "      <td>web</td>\n",
       "    </tr>\n",
       "    <tr>\n",
       "      <th>947631</th>\n",
       "      <td>audio-video</td>\n",
       "      <td>mobile</td>\n",
       "    </tr>\n",
       "    <tr>\n",
       "      <th>947632</th>\n",
       "      <td>cars</td>\n",
       "      <td>mobile</td>\n",
       "    </tr>\n",
       "    <tr>\n",
       "      <th>947633</th>\n",
       "      <td>mobile-tablet</td>\n",
       "      <td>mobile</td>\n",
       "    </tr>\n",
       "    <tr>\n",
       "      <th>947634</th>\n",
       "      <td>jewelry-and-watches</td>\n",
       "      <td>mobile</td>\n",
       "    </tr>\n",
       "  </tbody>\n",
       "</table>\n",
       "<p>947635 rows × 2 columns</p>\n",
       "</div>"
      ],
      "text/plain": [
       "                          product platform\n",
       "0       furniture-and-home-decore   mobile\n",
       "1       furniture-and-home-decore   mobile\n",
       "2                            cars   mobile\n",
       "3       furniture-and-home-decore   mobile\n",
       "4                   baby-and-toys   mobile\n",
       "...                           ...      ...\n",
       "947630        building-and-garden      web\n",
       "947631                audio-video   mobile\n",
       "947632                       cars   mobile\n",
       "947633              mobile-tablet   mobile\n",
       "947634        jewelry-and-watches   mobile\n",
       "\n",
       "[947635 rows x 2 columns]"
      ]
     },
     "execution_count": 4,
     "metadata": {},
     "output_type": "execute_result"
    }
   ],
   "source": [
    "dataset = dataset.astype(str)\n",
    "dataset[\"product\"] = dataset['cat2']\n",
    "dataset = dataset[[\"product\",\"platform\"]]\n",
    "dataset"
   ]
  },
  {
   "cell_type": "code",
   "execution_count": 5,
   "metadata": {},
   "outputs": [
    {
     "name": "stdout",
     "output_type": "stream",
     "text": [
      "platform_values_counts:\n",
      "mobile    874237\n",
      "web        73398\n",
      "Name: platform, dtype: int64\n",
      "min value count : 73398\n"
     ]
    }
   ],
   "source": [
    "platform_values_counts = dataset[\"platform\"].value_counts()\n",
    "print(\"platform_values_counts:\\n\"+str(platform_values_counts))\n",
    "min_platform_count = platform_values_counts[-1]\n",
    "print(\"min value count : \"+str(min_platform_count))"
   ]
  },
  {
   "cell_type": "code",
   "execution_count": null,
   "metadata": {},
   "outputs": [],
   "source": [
    "grouped = dataset.groupby(\"platform\")\n",
    "transactions = []\n",
    "for name, group in grouped:\n",
    "    transactions += group.sample(frac=1)[0:min_platform_count].values.tolist()\n",
    "transactions"
   ]
  },
  {
   "cell_type": "code",
   "execution_count": 7,
   "metadata": {},
   "outputs": [
    {
     "data": {
      "text/plain": [
       "146796"
      ]
     },
     "execution_count": 7,
     "metadata": {},
     "output_type": "execute_result"
    }
   ],
   "source": [
    "len(transactions)"
   ]
  },
  {
   "cell_type": "code",
   "execution_count": 8,
   "metadata": {},
   "outputs": [],
   "source": [
    "itemsets, rules = apriori(transactions, min_support=0.02, min_confidence=0.1)"
   ]
  },
  {
   "cell_type": "code",
   "execution_count": 9,
   "metadata": {},
   "outputs": [
    {
     "data": {
      "text/plain": [
       "{('utensils-and-appliances', 'web'): 4863,\n",
       " ('parts-accessories', 'web'): 3481,\n",
       " ('mobile-tablet', 'web'): 5746,\n",
       " ('mobile', 'utensils-and-appliances'): 4518,\n",
       " ('mobile', 'parts-accessories'): 4305,\n",
       " ('mobile', 'mobile-tablet'): 6012,\n",
       " ('furniture-and-home-decore', 'web'): 15608,\n",
       " ('furniture-and-home-decore', 'mobile'): 15730,\n",
       " ('equipments-and-machinery', 'web'): 4681,\n",
       " ('equipments-and-machinery', 'mobile'): 3832,\n",
       " ('computers', 'web'): 4687,\n",
       " ('clothing-and-shoes', 'web'): 4875,\n",
       " ('clothing-and-shoes', 'mobile'): 6879,\n",
       " ('cars', 'web'): 9948,\n",
       " ('cars', 'mobile'): 10233,\n",
       " ('animals', 'mobile'): 4034}"
      ]
     },
     "execution_count": 9,
     "metadata": {},
     "output_type": "execute_result"
    }
   ],
   "source": [
    "frequent_itemsets = dict(sorted(itemsets[2].items(), key=lambda item: item[0], reverse=True))\n",
    "frequent_itemsets"
   ]
  },
  {
   "cell_type": "code",
   "execution_count": 10,
   "metadata": {},
   "outputs": [
    {
     "data": {
      "text/plain": [
       "[{clothing-and-shoes} -> {mobile},\n",
       " {mobile-tablet} -> {mobile},\n",
       " {utensils-and-appliances} -> {mobile},\n",
       " {mobile} -> {cars},\n",
       " {cars} -> {mobile},\n",
       " {mobile} -> {furniture-and-home-decore},\n",
       " {furniture-and-home-decore} -> {mobile},\n",
       " {animals} -> {mobile},\n",
       " {equipments-and-machinery} -> {mobile},\n",
       " {parts-accessories} -> {mobile},\n",
       " {mobile-tablet} -> {web},\n",
       " {clothing-and-shoes} -> {web},\n",
       " {web} -> {furniture-and-home-decore},\n",
       " {furniture-and-home-decore} -> {web},\n",
       " {utensils-and-appliances} -> {web},\n",
       " {equipments-and-machinery} -> {web},\n",
       " {parts-accessories} -> {web},\n",
       " {computers} -> {web},\n",
       " {web} -> {cars},\n",
       " {cars} -> {web}]"
      ]
     },
     "execution_count": 10,
     "metadata": {},
     "output_type": "execute_result"
    }
   ],
   "source": [
    "for rule in sorted(rules, key=lambda rule: rule.lift, reverse=True):\n",
    "  print(rule)"
   ]
  },
  {
   "cell_type": "markdown",
   "metadata": {},
   "source": [
    "# PART 4: solving using cat3"
   ]
  },
  {
   "cell_type": "code",
   "execution_count": 11,
   "metadata": {},
   "outputs": [],
   "source": [
    "dataset = dataset_raw[[\"platform\",\"cat2\",\"cat3\"]]"
   ]
  },
  {
   "cell_type": "code",
   "execution_count": 12,
   "metadata": {},
   "outputs": [
    {
     "data": {
      "text/html": [
       "<div>\n",
       "<style scoped>\n",
       "    .dataframe tbody tr th:only-of-type {\n",
       "        vertical-align: middle;\n",
       "    }\n",
       "\n",
       "    .dataframe tbody tr th {\n",
       "        vertical-align: top;\n",
       "    }\n",
       "\n",
       "    .dataframe thead th {\n",
       "        text-align: right;\n",
       "    }\n",
       "</style>\n",
       "<table border=\"1\" class=\"dataframe\">\n",
       "  <thead>\n",
       "    <tr style=\"text-align: right;\">\n",
       "      <th></th>\n",
       "      <th>product</th>\n",
       "      <th>platform</th>\n",
       "    </tr>\n",
       "  </thead>\n",
       "  <tbody>\n",
       "    <tr>\n",
       "      <th>0</th>\n",
       "      <td>furniture-and-home-decore__sofa-armchair</td>\n",
       "      <td>mobile</td>\n",
       "    </tr>\n",
       "    <tr>\n",
       "      <th>1</th>\n",
       "      <td>furniture-and-home-decore__antiques-and-art</td>\n",
       "      <td>mobile</td>\n",
       "    </tr>\n",
       "    <tr>\n",
       "      <th>2</th>\n",
       "      <td>cars__heavy</td>\n",
       "      <td>mobile</td>\n",
       "    </tr>\n",
       "    <tr>\n",
       "      <th>3</th>\n",
       "      <td>furniture-and-home-decore__sofa-armchair</td>\n",
       "      <td>mobile</td>\n",
       "    </tr>\n",
       "    <tr>\n",
       "      <th>4</th>\n",
       "      <td>baby-and-toys__personal-toys</td>\n",
       "      <td>mobile</td>\n",
       "    </tr>\n",
       "    <tr>\n",
       "      <th>...</th>\n",
       "      <td>...</td>\n",
       "      <td>...</td>\n",
       "    </tr>\n",
       "    <tr>\n",
       "      <th>947630</th>\n",
       "      <td>building-and-garden__stove-and-heating</td>\n",
       "      <td>web</td>\n",
       "    </tr>\n",
       "    <tr>\n",
       "      <th>947631</th>\n",
       "      <td>audio-video__camera-camcoders</td>\n",
       "      <td>mobile</td>\n",
       "    </tr>\n",
       "    <tr>\n",
       "      <th>947632</th>\n",
       "      <td>cars__light</td>\n",
       "      <td>mobile</td>\n",
       "    </tr>\n",
       "    <tr>\n",
       "      <th>947633</th>\n",
       "      <td>mobile-tablet__mobile-tablet-accessories</td>\n",
       "      <td>mobile</td>\n",
       "    </tr>\n",
       "    <tr>\n",
       "      <th>947634</th>\n",
       "      <td>jewelry-and-watches__watches</td>\n",
       "      <td>mobile</td>\n",
       "    </tr>\n",
       "  </tbody>\n",
       "</table>\n",
       "<p>775301 rows × 2 columns</p>\n",
       "</div>"
      ],
      "text/plain": [
       "                                            product platform\n",
       "0          furniture-and-home-decore__sofa-armchair   mobile\n",
       "1       furniture-and-home-decore__antiques-and-art   mobile\n",
       "2                                       cars__heavy   mobile\n",
       "3          furniture-and-home-decore__sofa-armchair   mobile\n",
       "4                      baby-and-toys__personal-toys   mobile\n",
       "...                                             ...      ...\n",
       "947630       building-and-garden__stove-and-heating      web\n",
       "947631                audio-video__camera-camcoders   mobile\n",
       "947632                                  cars__light   mobile\n",
       "947633     mobile-tablet__mobile-tablet-accessories   mobile\n",
       "947634                 jewelry-and-watches__watches   mobile\n",
       "\n",
       "[775301 rows x 2 columns]"
      ]
     },
     "execution_count": 12,
     "metadata": {},
     "output_type": "execute_result"
    }
   ],
   "source": [
    "dataset = dataset.dropna()\n",
    "dataset = dataset.astype(str)\n",
    "dataset[\"product\"] = dataset['cat2'] +\"__\"+ dataset['cat3']\n",
    "dataset = dataset[[\"product\",\"platform\"]]\n",
    "dataset"
   ]
  },
  {
   "cell_type": "code",
   "execution_count": 13,
   "metadata": {},
   "outputs": [
    {
     "name": "stdout",
     "output_type": "stream",
     "text": [
      "platform_values_counts:\n",
      "mobile    713766\n",
      "web        61535\n",
      "Name: platform, dtype: int64\n",
      "min value count : 61535\n"
     ]
    }
   ],
   "source": [
    "platform_values_counts = dataset[\"platform\"].value_counts()\n",
    "print(\"platform_values_counts:\\n\"+str(platform_values_counts))\n",
    "min_platform_count = platform_values_counts[-1]\n",
    "print(\"min value count : \"+str(min_platform_count))"
   ]
  },
  {
   "cell_type": "code",
   "execution_count": null,
   "metadata": {},
   "outputs": [],
   "source": [
    "grouped = dataset.groupby(\"platform\")\n",
    "transactions = []\n",
    "for name, group in grouped:\n",
    "    transactions += group.sample(frac=1)[0:min_platform_count].values.tolist()\n",
    "transactions"
   ]
  },
  {
   "cell_type": "code",
   "execution_count": 15,
   "metadata": {},
   "outputs": [
    {
     "data": {
      "text/plain": [
       "123070"
      ]
     },
     "execution_count": 15,
     "metadata": {},
     "output_type": "execute_result"
    }
   ],
   "source": [
    "len(transactions)"
   ]
  },
  {
   "cell_type": "code",
   "execution_count": 16,
   "metadata": {},
   "outputs": [],
   "source": [
    "itemsets, rules = apriori(transactions, min_support=0.02, min_confidence=0.1)"
   ]
  },
  {
   "cell_type": "code",
   "execution_count": 17,
   "metadata": {},
   "outputs": [
    {
     "data": {
      "text/plain": [
       "{('mobile-tablet__mobile-phones', 'web'): 4530,\n",
       " ('mobile', 'mobile-tablet__mobile-phones'): 5002,\n",
       " ('furniture-and-home-decore__tables-and-chairs', 'web'): 2609,\n",
       " ('furniture-and-home-decore__sofa-armchair', 'web'): 3428,\n",
       " ('furniture-and-home-decore__sofa-armchair', 'mobile'): 3956,\n",
       " ('clothing-and-shoes__shoes-belt-bag', 'mobile'): 2750,\n",
       " ('clothing-and-shoes__clothing', 'web'): 2907,\n",
       " ('clothing-and-shoes__clothing', 'mobile'): 4366,\n",
       " ('cars__light', 'web'): 9597,\n",
       " ('cars__light', 'mobile'): 9451,\n",
       " ('animals__birds', 'mobile'): 3141}"
      ]
     },
     "execution_count": 17,
     "metadata": {},
     "output_type": "execute_result"
    }
   ],
   "source": [
    "frequent_itemsets = dict(sorted(itemsets[2].items(), key=lambda item: item[0], reverse=True))\n",
    "frequent_itemsets"
   ]
  },
  {
   "cell_type": "code",
   "execution_count": 19,
   "metadata": {},
   "outputs": [
    {
     "name": "stdout",
     "output_type": "stream",
     "text": [
      "{animals__birds} -> {mobile} (conf: 0.701, supp: 0.026, lift: 1.402, conv: 1.673)\n",
      "{clothing-and-shoes__clothing} -> {mobile} (conf: 0.600, supp: 0.035, lift: 1.201, conv: 1.251)\n",
      "{clothing-and-shoes__shoes-belt-bag} -> {mobile} (conf: 0.583, supp: 0.022, lift: 1.166, conv: 1.199)\n",
      "{furniture-and-home-decore__sofa-armchair} -> {mobile} (conf: 0.536, supp: 0.032, lift: 1.072, conv: 1.077)\n",
      "{mobile-tablet__mobile-phones} -> {mobile} (conf: 0.525, supp: 0.041, lift: 1.050, conv: 1.052)\n",
      "{furniture-and-home-decore__tables-and-chairs} -> {web} (conf: 0.524, supp: 0.021, lift: 1.047, conv: 1.049)\n",
      "{web} -> {cars__light} (conf: 0.156, supp: 0.078, lift: 1.008, conv: 1.001)\n",
      "{cars__light} -> {web} (conf: 0.504, supp: 0.078, lift: 1.008, conv: 1.008)\n",
      "{mobile} -> {cars__light} (conf: 0.154, supp: 0.077, lift: 0.992, conv: 0.999)\n",
      "{cars__light} -> {mobile} (conf: 0.496, supp: 0.077, lift: 0.992, conv: 0.992)\n",
      "{mobile-tablet__mobile-phones} -> {web} (conf: 0.475, supp: 0.037, lift: 0.950, conv: 0.953)\n",
      "{furniture-and-home-decore__sofa-armchair} -> {web} (conf: 0.464, supp: 0.028, lift: 0.928, conv: 0.933)\n",
      "{clothing-and-shoes__clothing} -> {web} (conf: 0.400, supp: 0.024, lift: 0.799, conv: 0.833)\n"
     ]
    }
   ],
   "source": [
    "for rule in sorted(rules, key=lambda rule: rule.lift, reverse=True):\n",
    "  print(rule)"
   ]
  },
  {
   "cell_type": "code",
   "execution_count": null,
   "metadata": {},
   "outputs": [],
   "source": []
  }
 ],
 "metadata": {
  "kernelspec": {
   "display_name": "Python 3",
   "language": "python",
   "name": "python3"
  },
  "language_info": {
   "codemirror_mode": {
    "name": "ipython",
    "version": 3
   },
   "file_extension": ".py",
   "mimetype": "text/x-python",
   "name": "python",
   "nbconvert_exporter": "python",
   "pygments_lexer": "ipython3",
   "version": "3.8.3"
  }
 },
 "nbformat": 4,
 "nbformat_minor": 4
}
